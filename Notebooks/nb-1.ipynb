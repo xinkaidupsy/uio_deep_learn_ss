{
  "cells": [
    {
      "cell_type": "markdown",
      "metadata": {
        "id": "e5rd6RHR58JR"
      },
      "source": [
        "<a target=\"_blank\" href=\"https://colab.research.google.com/github/retowuest/uio-dl-2024/blob/main/Notebooks/nb-1.ipynb\">\n",
        "  <img src=\"https://colab.research.google.com/assets/colab-badge.svg\" alt=\"Open In Colab\"/>\n",
        "</a>"
      ]
    },
    {
      "cell_type": "markdown",
      "metadata": {
        "id": "0ymEYa1158JT"
      },
      "source": [
        "# Deep Learning for Social Scientists\n",
        "\n",
        "### University of Oslo, November 27-28, 2024"
      ]
    },
    {
      "cell_type": "markdown",
      "metadata": {
        "id": "CZipuK9c58JT"
      },
      "source": [
        "### **Demo 1 & 2:**<br>1D Linear Regression and Gradient Descent"
      ]
    },
    {
      "cell_type": "markdown",
      "metadata": {
        "id": "jdT9MlbB58JU"
      },
      "source": [
        "### Table of Contents\n",
        "* [Introduction](#section_1)\n",
        "* [Creating a Toy Data Set](#section_2)\n",
        "* [Fitting a 1D Linear Regression Model](#section_3)\n",
        "  * [Analytical Optimization via `scikit-learn`](#section_3_1)\n",
        "  * [Numerical Optimization via Gradient Descent (w/ Python)](#section_3_2)\n",
        "  * [Numerical Optimization via Stochastic Gradient Descent (w/ PyTorch)](#section_3_3)"
      ]
    },
    {
      "cell_type": "markdown",
      "metadata": {
        "id": "aRWABWso58JU"
      },
      "source": [
        "### Introduction <a class=\"anchor\" id=\"section_1\"></a>"
      ]
    },
    {
      "cell_type": "markdown",
      "metadata": {
        "id": "yf2lgOnQ58JU"
      },
      "source": [
        "To introduce Python and PyTorch, we will train a 1D linear regression model on a toy data set.\n",
        "\n",
        "The 1D linear regression model describes the relationship between input $x$ and output $y$ as a straight line,\n",
        "$$\n",
        "\\begin{split}\n",
        "y &= f[x, \\boldsymbol{\\phi}] \\\\\n",
        "&= \\phi_{0} + \\phi_{1}x.\n",
        "\\end{split}\n",
        "$$\n",
        "\n",
        "The model parameters are $\\boldsymbol{\\phi} = [\\phi_{0}, \\phi_{1}]^{T}$.\n",
        "\n",
        "Our goal is to choose parameters $\\boldsymbol{\\hat{\\phi}}$ that map input $x$ to output $y$ as closely as possible on a training data set $\\mathcal{S} = \\{(x_{i}, y_{i})\\}_{i = 1}^{N}$. We use least squares as the loss function $L[\\boldsymbol{\\phi}]$ and find the parameter values that minimize $L[\\boldsymbol{\\phi}]$ on $\\mathcal{S}$,\n",
        "$$\n",
        "\\begin{split}\n",
        "\\boldsymbol{\\hat{\\phi}} &= \\underset{\\boldsymbol{\\phi}}{\\mathrm{argmin}}\\big[L[\\boldsymbol{\\phi}]\\big] \\\\\n",
        "&= \\underset{\\boldsymbol{\\phi}}{\\mathrm{argmin}}\\Bigg[\\sum_{i = 1}^{N}(f[x_{i}, \\boldsymbol{\\phi}] - y_{i})^{2}\\Bigg] \\\\\n",
        "&= \\underset{\\boldsymbol{\\phi}}{\\mathrm{argmin}}\\Bigg[\\sum_{i = 1}^{N}(\\phi_{0} + \\phi_{1}x_{i} - y_{i})^{2}\\Bigg].\n",
        "\\end{split}\n",
        "$$"
      ]
    },
    {
      "cell_type": "markdown",
      "metadata": {
        "id": "YtFb1pQs58JU"
      },
      "source": [
        "### Creating a Toy Data Set <a class=\"anchor\" id=\"section_2\"></a>"
      ]
    },
    {
      "cell_type": "markdown",
      "metadata": {
        "id": "kF8FhHdG58JV"
      },
      "source": [
        "We first create a toy data set with `numpy` and visualize it. This toy data set will serve as our training data set $\\mathcal{S} = \\{(x_{i}, y_{i})\\}_{i = 1}^{N}$."
      ]
    },
    {
      "cell_type": "code",
      "execution_count": null,
      "metadata": {
        "id": "UbHYsefB58JV",
        "outputId": "85c90224-e360-4c3c-b872-402ecfb1ab72"
      },
      "outputs": [
        {
          "data": {
            "image/png": "[encoded data removed]",
            "text/plain": [
              "<Figure size 800x500 with 1 Axes>"
            ]
          },
          "metadata": {},
          "output_type": "display_data"
        }
      ],
      "source": [
        "# Import numpy library and\n",
        "# pyplot module from the matplotlib library\n",
        "import numpy as np\n",
        "import matplotlib.pyplot as plt\n",
        "\n",
        "# Magic command for setting matplotlib backend to inline backend\n",
        "# (this will display a plot inline within the notebook,\n",
        "# directly below the code cell that produced it)\n",
        "%matplotlib inline\n",
        "\n",
        "# Create toy data set, data type is no.float32, reshape to 10 by 1 matrix (column vector)\n",
        "x_train = np.arange(10, dtype=np.float32).reshape((10, 1))\n",
        "\n",
        "phi0 = 1\n",
        "phi1 = 0.5\n",
        "\n",
        "rng = np.random.default_rng(seed=1234)\n",
        "y_train = (phi0 + phi1 * x_train +\n",
        "           rng.normal(loc=0, scale=1, size=10).astype(np.float32).reshape(10, 1)) # add noise from rng.normal\n",
        "\n",
        "# Plot training data\n",
        "plt.figure(figsize=(8, 5))\n",
        "plt.scatter(x_train, y_train, c=\"steelblue\", s=80)\n",
        "plt.xlabel(\"x\")\n",
        "plt.ylabel(\"y\")\n",
        "plt.title(\"Training Data\")\n",
        "plt.tight_layout()\n",
        "plt.show()"
      ]
    },
    {
      "cell_type": "markdown",
      "metadata": {
        "id": "ce2HIGNY58JV"
      },
      "source": [
        "### Fitting a 1D Linear Regression Model <a class=\"anchor\" id=\"section_3\"></a>"
      ]
    },
    {
      "cell_type": "markdown",
      "metadata": {
        "id": "jmqhYEpS58JW"
      },
      "source": [
        "#### Analytical Optimization via `scikit-learn` <a class=\"anchor\" id=\"section_3_1\"></a>"
      ]
    },
    {
      "cell_type": "markdown",
      "metadata": {
        "id": "5MRLcsuV58JW"
      },
      "source": [
        "The 1D linear regression model with a least-squares loss function has a closed-form solution to the optimization problem. The parameter values that minimize the loss function are:\n",
        "$$\n",
        "\\begin{split}\n",
        "\\hat{\\phi}_{0} &= \\bar{y} - \\hat{\\phi}_{1}\\bar{x} \\\\\n",
        "\\hat{\\phi}_{1} &= \\frac{\\sum_{i = 1}^{N}(x_{i} - \\bar{x})(y_{i} - \\bar{y})}{\\sum_{i = 1}^{N}(x_{i} - \\bar{x})^{2}},\n",
        "\\end{split}\n",
        "$$\n",
        "where $\\bar{x} = \\frac{1}{N}\\sum_{i = 1}^{N}x_{i}$ and $\\bar{y} = \\frac{1}{N}\\sum_{i = 1}^{N}y_{i}$ are the sample means.\n",
        "\n",
        "We use `scikit-learn` to find the least-squares estimates. Note that `scikit-learn` relies on the function `scipy.linalg.lstsq`, which computes the least-squares solution to the normal equations."
      ]
    },
    {
      "cell_type": "code",
      "execution_count": null,
      "metadata": {
        "id": "1O8PAa-Z58JW",
        "outputId": "abc9c4bc-296a-404b-80f5-65616f32c73a"
      },
      "outputs": [
        {
          "name": "stdout",
          "output_type": "stream",
          "text": [
            "Intercept: 1.03\n",
            "Slope: 0.52\n"
          ]
        }
      ],
      "source": [
        "# Import class LinearRegression from the module linear_model\n",
        "# in the scikit-learn library\n",
        "from sklearn.linear_model import LinearRegression\n",
        "\n",
        "# Create instance of class LinearRegression\n",
        "lm_skl = LinearRegression()\n",
        "\n",
        "# Train model on training data\n",
        "lm_skl.fit(x_train, y_train)\n",
        "\n",
        "# Print trained model parameters\n",
        "print(f\"Intercept: {lm_skl.intercept_[0]:.2f}\")\n",
        "print(f\"Slope: {lm_skl.coef_[0][0]:.2f}\")"
      ]
    },
    {
      "cell_type": "markdown",
      "metadata": {
        "id": "MGIcV9xX58JW"
      },
      "source": [
        "We can now plot the training data together with the fitted regression line defined by the least-squares parameter estimates."
      ]
    },
    {
      "cell_type": "code",
      "execution_count": null,
      "metadata": {
        "id": "rI6JOeUA58JW",
        "outputId": "2bf9ae9f-429f-4e28-f46e-f9d1202334fa"
      },
      "outputs": [
        {
          "data": {
            "image/png": "[encoded data removed]",
            "text/plain": [
              "<Figure size 800x500 with 1 Axes>"
            ]
          },
          "metadata": {},
          "output_type": "display_data"
        }
      ],
      "source": [
        "# Plot training data together with fitted regression line\n",
        "plt.figure(figsize=(8, 5))\n",
        "plt.scatter(x_train, y_train, c=\"steelblue\", s=80)\n",
        "plt.plot(x_train, lm_skl.predict(x_train), color=\"black\", lw=2)\n",
        "plt.xlabel(\"x\")\n",
        "plt.ylabel(\"y\")\n",
        "plt.title(\"Training Data and Fitted Regression Model\")\n",
        "plt.legend([\"Training data\", \"Fitted regression line\"])\n",
        "plt.tight_layout()\n",
        "plt.show()"
      ]
    },
    {
      "cell_type": "markdown",
      "metadata": {
        "id": "tdsxzQ1C58JX"
      },
      "source": [
        "#### Numerical Optimization via Gradient Descent (w/ Python) <a class=\"anchor\" id=\"section_3_2\"></a>"
      ]
    },
    {
      "cell_type": "markdown",
      "metadata": {
        "id": "NTgE2_pt58JX"
      },
      "source": [
        "Next, let's train a 1D linear regression model using gradient descent in Python. We will take an object-oriented programming (OOP) approach and implement the gradient descent algorithm as a [Python class](https://realpython.com/python-classes/).\n",
        "\n",
        "We first standardize the input for better convergence of the algorithm."
      ]
    },
    {
      "cell_type": "code",
      "execution_count": null,
      "metadata": {
        "id": "qQHq4bNo58JX"
      },
      "outputs": [],
      "source": [
        "# Standardize input\n",
        "# (We do this manually here. Alternatively, we could use the StandardScaler class\n",
        "# from scikit-learn's preprocessing module)\n",
        "x_train_std = (x_train - np.mean(x_train)) / np.std(x_train)"
      ]
    },
    {
      "cell_type": "code",
      "execution_count": null,
      "metadata": {
        "id": "_dSY4yFe58JX"
      },
      "outputs": [],
      "source": [
        "# Implement gradient descent algorithm\n",
        "class LinearRegressionGD:\n",
        "\n",
        "    # The __init__() method is a constructor method in Python classes.\n",
        "    # It initializes an object when it is created and allows us to assign\n",
        "    # values to the object's attributes\n",
        "    # (The first argument of most classes is self. This argument holds a\n",
        "    # reference to the current object so that we can use it inside the class)\n",
        "    def __init__(self, alpha=0.001, n_iter=2000, seed=1):\n",
        "        self.alpha = alpha\n",
        "        self.n_iter = n_iter\n",
        "        self.seed = seed\n",
        "\n",
        "    # Define fit() method that can be applied to objects of our class\n",
        "    def fit(self, x, y):\n",
        "        rng = np.random.default_rng(seed=self.seed)\n",
        "        self.phi1_ = rng.normal(loc=0, scale=1, size=x.shape[1]).reshape(1, 1)\n",
        "        self.phi0_ = np.zeros((1, 1))\n",
        "        self.losses_ = []\n",
        "\n",
        "        # Loop over iterations (epochs)\n",
        "        for i in range(self.n_iter):\n",
        "            # Generate predictions\n",
        "            output = self.net_input(x)\n",
        "            # Calculate errors\n",
        "            errors = (output - y)\n",
        "            # Update model parameters using gradients\n",
        "            self.phi1_ -= self.alpha * 2.0 * x.T.dot(errors) / x.shape[0]\n",
        "            self.phi0_ -= self.alpha * 2.0 * errors.mean().reshape(1, 1)\n",
        "            # Calculate loss\n",
        "            loss = (errors**2).mean()\n",
        "            # Store current loss\n",
        "            self.losses_.append(loss)\n",
        "        return self\n",
        "\n",
        "    def net_input(self, x):\n",
        "        return self.phi0_ + np.dot(x, self.phi1_)"
      ]
    },
    {
      "cell_type": "markdown",
      "metadata": {
        "id": "p-IONPbr58JX"
      },
      "source": [
        "Let's now train our gradient descent algorithm on the standardized training data."
      ]
    },
    {
      "cell_type": "code",
      "execution_count": null,
      "metadata": {
        "id": "KsTV8bNe58JX"
      },
      "outputs": [],
      "source": [
        "%%capture\n",
        "\n",
        "# Instantiate class LinearRegressionGD\n",
        "lm_gd = LinearRegressionGD(alpha=0.001)\n",
        "\n",
        "# Train model on standardized training data\n",
        "lm_gd.fit(x_train_std, y_train)"
      ]
    },
    {
      "cell_type": "markdown",
      "metadata": {
        "id": "BniZVT5r58JX"
      },
      "source": [
        "To check whether the gradient descent algorithm converged to the global minimum of the loss function, we plot the loss by epoch (iteration) over the training data set. As we can see, the algorithm converged approximately after the 1,000th epoch."
      ]
    },
    {
      "cell_type": "code",
      "execution_count": null,
      "metadata": {
        "id": "jf2jSxCy58JX",
        "outputId": "e6fbd2cf-d8c3-423b-9879-d37e1382b562"
      },
      "outputs": [
        {
          "data": {
            "image/png": "[encoded data removed]",
            "text/plain": [
              "<Figure size 640x480 with 1 Axes>"
            ]
          },
          "metadata": {},
          "output_type": "display_data"
        }
      ],
      "source": [
        "# Plot loss by epoch\n",
        "plt.plot(range(1, lm_gd.n_iter + 1), lm_gd.losses_)\n",
        "plt.xlabel(\"Epoch\")\n",
        "plt.ylabel(\"Loss\")\n",
        "plt.title(\"Loss by Epoch\")\n",
        "plt.show()"
      ]
    },
    {
      "cell_type": "markdown",
      "metadata": {
        "id": "lcj8IGpq58JY"
      },
      "source": [
        "Let's take a look at the fitted parameters of the 1D linear regression model."
      ]
    },
    {
      "cell_type": "code",
      "execution_count": null,
      "metadata": {
        "id": "qHzJqywM58JY",
        "outputId": "63302688-872c-4938-fadb-8bb15a5fe905"
      },
      "outputs": [
        {
          "name": "stdout",
          "output_type": "stream",
          "text": [
            "Intercept: 3.32\n",
            "Slope: 1.48\n"
          ]
        }
      ],
      "source": [
        "# Print trained model parameters\n",
        "print(f\"Intercept: {lm_gd.phi0_[0, 0]:.2f}\")\n",
        "print(f\"Slope: {lm_gd.phi1_[0, 0]:.2f}\")"
      ]
    },
    {
      "cell_type": "markdown",
      "metadata": {
        "id": "GYizMSr858JY"
      },
      "source": [
        "We trained the model with a standardized input, which changes the estimates of the model parameters. To make the results comparable to the earlier results from training with unstandardized input, we transform the estimates back to the original scale:\n",
        "$$\n",
        "\\begin{split}\n",
        "\\hat{\\phi}_{0}^{\\text{original}} &= \\hat{\\phi}_{0} - \\hat{\\phi}_{1}\\frac{\\bar{x}}{\\sigma_{x}} \\\\\n",
        "\\hat{\\phi}_{1}^{\\text{original}} &= \\frac{\\hat{\\phi}_{1}}{\\sigma_{x}},\n",
        "\\end{split}\n",
        "$$\n",
        "where $\\bar{x}$ is the sample mean and $\\sigma_{x}$ is the sample standard deviation of the input."
      ]
    },
    {
      "cell_type": "code",
      "execution_count": null,
      "metadata": {
        "id": "lcafszjd58JY",
        "outputId": "e019f09f-3c0d-421f-8307-df3ef715b360"
      },
      "outputs": [
        {
          "name": "stdout",
          "output_type": "stream",
          "text": [
            "Intercept: 1.00\n",
            "Slope: 0.51\n"
          ]
        }
      ],
      "source": [
        "# Calculate trained model parameters for unstandardized input\n",
        "phi0_gd_original = lm_gd.phi0_[0, 0] - lm_gd.phi1_[0, 0] * (np.mean(x_train) / np.std(x_train))\n",
        "phi1_gd_original = lm_gd.phi1_[0, 0] / np.std(x_train)\n",
        "\n",
        "print(f\"Intercept: {phi0_gd_original:.2f}\")\n",
        "print(f\"Slope: {phi1_gd_original:.2f}\")"
      ]
    },
    {
      "cell_type": "markdown",
      "metadata": {
        "id": "cmY7aaoE58JZ"
      },
      "source": [
        "#### Numerical Optimization via Stochastic Gradient Descent (w/ PyTorch) <a class=\"anchor\" id=\"section_3_3\"></a>\n"
      ]
    },
    {
      "cell_type": "markdown",
      "metadata": {
        "id": "tpr7XGHy58JZ"
      },
      "source": [
        "Let's now train a 1D linear regression model using stochastic gradient descent in PyTorch. While neural networks are typically built and trained using the `torch.nn` module from the PyTorch library, we will take a different approach. Instead of relying on `torch.nn` functionalities, we will train our model using only basic PyTorch tensor operations. This will help us better understand the mechanics underlying the `torch.nn` module.\n",
        "\n",
        "We first convert the input and output from ndarray to tensor and create a `TensorDataset` and a corresponding `DataLoader`."
      ]
    },
    {
      "cell_type": "code",
      "execution_count": null,
      "metadata": {
        "id": "oqAKnh_058JZ"
      },
      "outputs": [],
      "source": [
        "# Import torch library\n",
        "# Import the TensorDataset class and the DataLoader class\n",
        "# from the torch.utils.data module\n",
        "import torch\n",
        "from torch.utils.data import TensorDataset\n",
        "from torch.utils.data import DataLoader\n",
        "\n",
        "# Convert input and output from ndarray to tensor\n",
        "x_train_std = torch.from_numpy(x_train_std)\n",
        "y_train = torch.from_numpy(y_train)\n",
        "\n",
        "# Create TensorDataset\n",
        "train_ds = TensorDataset(x_train_std, y_train)\n",
        "\n",
        "# Create DataLoader and set batch size to 1\n",
        "# (DataLoader() returns an object of the DataLoader class,\n",
        "# which we can use to iterate through batches of an input data set)\n",
        "batch_size = 1\n",
        "train_dl = DataLoader(train_ds, batch_size, shuffle=True)  # randomly shuffle data at the beginning of each epoch before dividing them into batches"
      ]
    },
    {
      "cell_type": "markdown",
      "metadata": {
        "id": "8Cucknzx58JZ"
      },
      "source": [
        "We can now define our 1D linear regression model. Here we would typically use the `torch.nn` module, which provides predefined layers for building neural network models. However, we will proceed by building a linear regression model from scratch.\n",
        "\n",
        "Note that in PyTorch there is a special object for tensors for which gradients need to be computed. This special tensor object can be created by setting `requires_grad=True`."
      ]
    },
    {
      "cell_type": "code",
      "execution_count": null,
      "metadata": {
        "id": "yR14A0ZX58JZ"
      },
      "outputs": [],
      "source": [
        "# Set seed\n",
        "torch.manual_seed(1234)\n",
        "\n",
        "# Initialize bias and weight parameters\n",
        "# (the bias and weight are trainable parameters,\n",
        "# so we need to compute the gradients)\n",
        "bias = torch.zeros(1, requires_grad=True)\n",
        "\n",
        "# Note that torch.rand(n) returns a tensor filled with\n",
        "# n random numbers from a standard normal distribution\n",
        "weight = torch.randn(1)\n",
        "weight.requires_grad_()  # this is an alternative method for setting requires_grad=True\n",
        "\n",
        "# Define linear regression model\n",
        "def model(xb):\n",
        "    return bias + xb * weight"
      ]
    },
    {
      "cell_type": "markdown",
      "metadata": {
        "id": "Gf9x9Ntw58JZ"
      },
      "source": [
        "We next define the loss function that we want to minimize in the training process. We choose the mean squared error (MSE) as our loss function."
      ]
    },
    {
      "cell_type": "code",
      "execution_count": null,
      "metadata": {
        "id": "g4_9mgu558JZ"
      },
      "outputs": [],
      "source": [
        "# Define loss function\n",
        "def loss_fn(prediction, target):\n",
        "    return (prediction - target).pow(2).mean()"
      ]
    },
    {
      "cell_type": "markdown",
      "metadata": {
        "id": "tNGT6O2v58Ja"
      },
      "source": [
        "We will use stochastic gradient descent (SGD) as our training algorithm. SGD requires the computation of gradients. Rather than manually computing the gradients, we will do so by using the `backward()` method from the `torch.autograd` module.\n",
        "\n",
        "Finally, we set the learning rate and the number of epochs before we train our model."
      ]
    },
    {
      "cell_type": "code",
      "execution_count": null,
      "metadata": {
        "id": "zRya8-3358Ja"
      },
      "outputs": [],
      "source": [
        "# Set learning rate\n",
        "learning_rate = 0.001\n",
        "\n",
        "# Set number of epochs\n",
        "num_epochs = 200"
      ]
    },
    {
      "cell_type": "markdown",
      "metadata": {
        "id": "fBeHVsR458Ja"
      },
      "source": [
        "Let's now train the 1D linear regression model on the batched version of the data set."
      ]
    },
    {
      "cell_type": "code",
      "execution_count": null,
      "metadata": {
        "id": "xTGD7Q8o58Ja",
        "outputId": "aa66731d-e2e9-4d8b-d6d0-c1083424725e"
      },
      "outputs": [
        {
          "name": "stdout",
          "output_type": "stream",
          "text": [
            "Epoch 0:   Loss 2.6254\n",
            "Epoch 10:   Loss 32.9588\n",
            "Epoch 20:   Loss 27.0230\n",
            "Epoch 30:   Loss 2.2093\n",
            "Epoch 40:   Loss 4.5787\n",
            "Epoch 50:   Loss 1.5180\n",
            "Epoch 60:   Loss 1.7043\n",
            "Epoch 70:   Loss 0.4824\n",
            "Epoch 80:   Loss 0.7180\n",
            "Epoch 90:   Loss 0.9364\n",
            "Epoch 100:   Loss 1.4095\n",
            "Epoch 110:   Loss 1.7216\n",
            "Epoch 120:   Loss 0.3829\n",
            "Epoch 130:   Loss 0.9471\n",
            "Epoch 140:   Loss 2.4511\n",
            "Epoch 150:   Loss 8.7028\n",
            "Epoch 160:   Loss 0.1165\n",
            "Epoch 170:   Loss 2.5529\n",
            "Epoch 180:   Loss 0.0161\n",
            "Epoch 190:   Loss 0.5089\n"
          ]
        }
      ],
      "source": [
        "# Train linear regression model (w/o torch.nn)\n",
        "\n",
        "# Specify after how many epochs loss is to be displayed\n",
        "log_epochs = 10\n",
        "\n",
        "# Loop over epochs\n",
        "for epoch in range(num_epochs):\n",
        "\n",
        "    # Loop over training data batches\n",
        "    for x_batch, y_batch in train_dl:\n",
        "        # Generate predictions\n",
        "        y_batch_pred = model(x_batch)\n",
        "        # Calculate loss\n",
        "        loss = loss_fn(y_batch_pred, y_batch)\n",
        "        # Compute gradients\n",
        "        # (method backward() computes gradients for model parameters)\n",
        "        loss.backward()\n",
        "\n",
        "    # In the below block we update model parameters, so we disable gradient calculation\n",
        "    # (this will reduce memory consumption)\n",
        "    with torch.no_grad():\n",
        "        # Update model parameters using gradients\n",
        "        bias -= learning_rate * bias.grad\n",
        "        weight -= learning_rate * weight.grad\n",
        "        # Reset gradients to zero\n",
        "        # (the grad attribute contains the gradients computed by backward().\n",
        "        # Subsequent calls to backward() will accumulate (i.e., add) gradients\n",
        "        # rather than overwriting them, so we zero out the gradients before\n",
        "        # moving on to the next iteration)\n",
        "        bias.grad.zero_()\n",
        "        weight.grad.zero_()\n",
        "\n",
        "    # Print loss for every kth epoch\n",
        "    if epoch % log_epochs==0:  # opertor % is the modulus (i.e., remainder after division of a by b)\n",
        "        print(f'Epoch {epoch}:   Loss {loss.item():.4f}')  # item() returns the value of a tensor as a standard Python number (works only for tensors with one element)"
      ]
    },
    {
      "cell_type": "markdown",
      "metadata": {
        "id": "xg53g0VH58Ja"
      },
      "source": [
        "Let's look at the trained model parameters."
      ]
    },
    {
      "cell_type": "code",
      "execution_count": null,
      "metadata": {
        "id": "UjUaClzc58Jf",
        "outputId": "dc666759-c18c-4167-ab79-4685928021ff"
      },
      "outputs": [
        {
          "name": "stdout",
          "output_type": "stream",
          "text": [
            "Intercept: 3.32\n",
            "Slope: 1.47\n"
          ]
        }
      ],
      "source": [
        "# Print trained model parameters\n",
        "print(f\"Intercept: {bias.item():.2f}\")\n",
        "print(f\"Slope: {weight.item():.2f}\")"
      ]
    },
    {
      "cell_type": "markdown",
      "metadata": {
        "id": "O8cgzN2858Jf"
      },
      "source": [
        "As before, let's calculate the estimates for the input on its original scale."
      ]
    },
    {
      "cell_type": "code",
      "execution_count": null,
      "metadata": {
        "id": "NW15vcPB58Jf",
        "outputId": "b2525777-bc33-4615-91b9-7a8ad31bad02"
      },
      "outputs": [
        {
          "name": "stdout",
          "output_type": "stream",
          "text": [
            "Intercept: 1.01\n",
            "Slope: 0.51\n"
          ]
        }
      ],
      "source": [
        "# Calculate trained model parameters for unstandardized input\n",
        "bias_original = bias.item() - weight.item() * (np.mean(x_train) / np.std(x_train))\n",
        "weight_original = weight.item() / np.std(x_train)\n",
        "\n",
        "print(f\"Intercept: {bias_original:.2f}\")\n",
        "print(f\"Slope: {weight_original:.2f}\")"
      ]
    },
    {
      "cell_type": "markdown",
      "metadata": {
        "id": "EAikLnfg58Jf"
      },
      "source": [
        "Above, we trained the model by defining a custom loss function `loss_fn()` and applying stochastic gradient descent optimization. However, writing the loss function and gradient updates can be a repetitive task. The `torch.nn` module provides a set of loss functions, and the `torch.optim` module supports most commonly used optimization algorithms. Below, we will train the 1D linear regression model using the `torch.nn` and `torch.optim` modules."
      ]
    },
    {
      "cell_type": "code",
      "execution_count": null,
      "metadata": {
        "id": "8utG2AIP58Jg"
      },
      "outputs": [],
      "source": [
        "%%capture\n",
        "!pip3 install --upgrade ipywidgets"
      ]
    },
    {
      "cell_type": "code",
      "execution_count": null,
      "metadata": {
        "id": "8lsDGoT958Jg"
      },
      "outputs": [],
      "source": [
        "# Import the torch.nn module\n",
        "import torch.nn as nn\n",
        "\n",
        "# Define loss function\n",
        "loss_fn_nn = nn.MSELoss(reduction=\"mean\")\n",
        "\n",
        "# Define input and output size for linear layer in the model\n",
        "input_size = 1\n",
        "output_size = 1\n",
        "\n",
        "# Define linear regression model\n",
        "model_nn = nn.Linear(input_size, output_size)\n",
        "\n",
        "# Define optimization algorithm\n",
        "optimizer = torch.optim.SGD(model_nn.parameters(), lr=learning_rate)"
      ]
    },
    {
      "cell_type": "markdown",
      "metadata": {
        "id": "Zb7y6gXv58Jg"
      },
      "source": [
        "We can now call the `step()` method of the optimizer to train the model."
      ]
    },
    {
      "cell_type": "code",
      "execution_count": null,
      "metadata": {
        "id": "46-RQL7x58Jg",
        "outputId": "98973f39-6983-4d66-d86a-c5b5c2fc4bd4"
      },
      "outputs": [
        {
          "name": "stdout",
          "output_type": "stream",
          "text": [
            "Epoch 0:   Loss 29.2344\n",
            "Epoch 10:   Loss 9.8993\n",
            "Epoch 20:   Loss 29.6733\n",
            "Epoch 30:   Loss 10.9128\n",
            "Epoch 40:   Loss 0.3254\n",
            "Epoch 50:   Loss 1.6534\n",
            "Epoch 60:   Loss 1.1297\n",
            "Epoch 70:   Loss 0.4364\n",
            "Epoch 80:   Loss 12.8292\n",
            "Epoch 90:   Loss 1.3675\n",
            "Epoch 100:   Loss 1.5437\n",
            "Epoch 110:   Loss 0.1826\n",
            "Epoch 120:   Loss 0.8913\n",
            "Epoch 130:   Loss 2.1507\n",
            "Epoch 140:   Loss 1.0932\n",
            "Epoch 150:   Loss 0.0503\n",
            "Epoch 160:   Loss 0.0376\n",
            "Epoch 170:   Loss 2.9425\n",
            "Epoch 180:   Loss 0.7951\n",
            "Epoch 190:   Loss 0.6898\n"
          ]
        }
      ],
      "source": [
        "# Train linear regression model (w/ torch.nn)\n",
        "\n",
        "# Loop over epochs\n",
        "for epoch in range(num_epochs):\n",
        "\n",
        "    # Loop over training data batches\n",
        "    for x_batch, y_batch in train_dl:\n",
        "        # Generate predictions\n",
        "        y_batch_pred = model_nn(x_batch)\n",
        "        # Calculate loss\n",
        "        loss = loss_fn_nn(y_batch_pred, y_batch)\n",
        "        # Compute gradients\n",
        "        loss.backward()\n",
        "        # Update model parameters using gradients\n",
        "        optimizer.step()\n",
        "        # Reset gradients to zero\n",
        "        optimizer.zero_grad()\n",
        "\n",
        "    # Print loss for every kth epoch\n",
        "    if epoch % log_epochs==0:\n",
        "        print(f'Epoch {epoch}:   Loss {loss.item():.4f}')"
      ]
    },
    {
      "cell_type": "markdown",
      "metadata": {
        "id": "jhsLZ-zR58Jg"
      },
      "source": [
        "Let's look at the trained model parameters."
      ]
    },
    {
      "cell_type": "code",
      "execution_count": null,
      "metadata": {
        "id": "vngjpRe058Jg",
        "outputId": "b776eb05-292b-47cc-88e5-545a9925716d"
      },
      "outputs": [
        {
          "name": "stdout",
          "output_type": "stream",
          "text": [
            "Intercept: 3.31\n",
            "Slope: 1.48\n"
          ]
        }
      ],
      "source": [
        "# Print trained model parameters\n",
        "print(f\"Intercept: {model_nn.bias.item():.2f}\")\n",
        "print(f\"Slope: {model_nn.weight.item():.2f}\")"
      ]
    },
    {
      "cell_type": "markdown",
      "metadata": {
        "id": "cUJQtQn058Jh"
      },
      "source": [
        "And let's again calculate the estimates for the input on its original scale."
      ]
    },
    {
      "cell_type": "code",
      "execution_count": null,
      "metadata": {
        "id": "L5tsHxzA58Jh",
        "outputId": "6aebd225-b8e5-4d59-bf2d-47b0c1f67178"
      },
      "outputs": [
        {
          "name": "stdout",
          "output_type": "stream",
          "text": [
            "Intercept: 0.98\n",
            "Slope: 0.52\n"
          ]
        }
      ],
      "source": [
        "# Calculate trained model parameters for unstandardized input\n",
        "bias_nn_original = (model_nn.bias.item() - model_nn.weight.item() *\n",
        "                    (np.mean(x_train) / np.std(x_train)))\n",
        "weight_nn_original = model_nn.weight.item() / np.std(x_train)\n",
        "\n",
        "print(f\"Intercept: {bias_nn_original:.2f}\")\n",
        "print(f\"Slope: {weight_nn_original:.2f}\")"
      ]
    },
    {
      "cell_type": "code",
      "execution_count": null,
      "metadata": {
        "id": "K4CHGY9I58Jh"
      },
      "outputs": [],
      "source": []
    }
  ],
  "metadata": {
    "kernelspec": {
      "display_name": ".venv",
      "language": "python",
      "name": "python3"
    },
    "language_info": {
      "codemirror_mode": {
        "name": "ipython",
        "version": 3
      },
      "file_extension": ".py",
      "mimetype": "text/x-python",
      "name": "python",
      "nbconvert_exporter": "python",
      "pygments_lexer": "ipython3",
      "version": "3.12.2"
    },
    "colab": {
      "provenance": []
    }
  },
  "nbformat": 4,
  "nbformat_minor": 0
}